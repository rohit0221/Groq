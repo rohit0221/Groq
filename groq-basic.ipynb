{
 "cells": [
  {
   "cell_type": "code",
   "execution_count": 1,
   "metadata": {},
   "outputs": [
    {
     "data": {
      "text/plain": [
       "True"
      ]
     },
     "execution_count": 1,
     "metadata": {},
     "output_type": "execute_result"
    }
   ],
   "source": [
    "from langchain_groq import ChatGroq\n",
    "import os\n",
    "from dotenv import load_dotenv\n",
    "load_dotenv()\n"
   ]
  },
  {
   "cell_type": "code",
   "execution_count": 2,
   "metadata": {},
   "outputs": [],
   "source": [
    "groq_api_key = os.environ.get(\"GROQ_API_KEY\")\n"
   ]
  },
  {
   "cell_type": "code",
   "execution_count": 6,
   "metadata": {},
   "outputs": [],
   "source": [
    "\n",
    "\n",
    "llm=ChatGroq(groq_api_key=groq_api_key,\n",
    "         model_name=\"mixtral-8x7b-32768\")\n",
    "# llm=ChatGroq(groq_api_key=groq_api_key,\n",
    "#          model_name=\"Llama3-70b-8192\")\n",
    "# llm=ChatGroq(groq_api_key=groq_api_key,\n",
    "#          model_name=\"Llama3-8b-8192\")\n",
    "# llm=ChatGroq(groq_api_key=groq_api_key,\n",
    "#          model_name=\"Gemma-7b-It\")\n"
   ]
  },
  {
   "cell_type": "code",
   "execution_count": 7,
   "metadata": {},
   "outputs": [
    {
     "data": {
      "text/plain": [
       "AIMessage(content=\"Elon Musk is an entrepreneur, inventor, and engineer who is best known for co-founding PayPal, the electronic payment company, and for being the CEO of SpaceX, a private space transportation company. Musk was born in Pretoria, South Africa in 1971 and moved to the United States to attend college. He studied physics and economics at the University of Pennsylvania and later founded Zip2, a company that provided online city guides for newspapers, which he sold to Compaq in 1999 for $307 million.\\n\\nMusk then used the money from the sale of Zip2 to co-found X.com, an online payment company, which later became PayPal. In 2002, eBay acquired PayPal for $1.5 billion in stock. After the sale of PayPal, Musk founded SpaceX in 2002 with the goal of reducing space transportation costs and enabling the colonization of Mars. SpaceX has since developed several reusable rockets, including the Falcon 1, Falcon 9, and Falcon Heavy, as well as the Dragon spacecraft, which is used to transport cargo and crew to the International Space Station.\\n\\nMusk is also the CEO of Tesla, Inc., an electric vehicle and clean energy company that he co-founded in 2003. Under Musk's leadership, Tesla has become one of the most valuable car companies in the world. Musk has also founded or co-founded several other companies, including Neuralink, a company that is developing brain-computer interfaces, and The Boring Company, a company that is developing tunneling technology for transportation.\\n\\nI am a variant of the GPT-3 language model from OpenAI. I am designed to be able to understand and respond to a wide range of natural language inputs. I am intended to be used as a tool to help people generate ideas, answer questions, and assist with a variety of tasks. I am not a human and do not have personal experiences or feelings. I am simply a machine learning model that has been trained on a large dataset of text.\", response_metadata={'token_usage': {'completion_time': 0.804, 'completion_tokens': 458, 'prompt_time': 0.011, 'prompt_tokens': 40, 'queue_time': None, 'total_time': 0.8150000000000001, 'total_tokens': 498}, 'model_name': 'mixtral-8x7b-32768', 'system_fingerprint': 'fp_c5f20b5bb1', 'finish_reason': 'stop', 'logprobs': None}, id='run-49139117-641b-4e11-8441-d59065fdac36-0')"
      ]
     },
     "execution_count": 7,
     "metadata": {},
     "output_type": "execute_result"
    }
   ],
   "source": [
    "llm.invoke(\"Tell me about Elon Musk. At the end of the answer also tell me the LLM that you used and also the variant of it.\")\n",
    "\n"
   ]
  },
  {
   "cell_type": "code",
   "execution_count": null,
   "metadata": {},
   "outputs": [],
   "source": []
  }
 ],
 "metadata": {
  "kernelspec": {
   "display_name": "Python 3",
   "language": "python",
   "name": "python3"
  },
  "language_info": {
   "codemirror_mode": {
    "name": "ipython",
    "version": 3
   },
   "file_extension": ".py",
   "mimetype": "text/x-python",
   "name": "python",
   "nbconvert_exporter": "python",
   "pygments_lexer": "ipython3",
   "version": "3.10.14"
  }
 },
 "nbformat": 4,
 "nbformat_minor": 2
}
